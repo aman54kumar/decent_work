{
 "cells": [
  {
   "cell_type": "code",
   "execution_count": 2,
   "metadata": {},
   "outputs": [],
   "source": [
    "import wbdata\n",
    "import datetime\n",
    "import pandas as pd\n",
    "import numpy as np\n",
    "import matplotlib.pyplot as plt\n",
    "import datetime\n"
   ]
  },
  {
   "cell_type": "code",
   "execution_count": 3,
   "metadata": {},
   "outputs": [],
   "source": [
    "country = wbdata.search_countries(query='Poland', display=False)\n",
    "countries = country[0]['id']"
   ]
  },
  {
   "cell_type": "code",
   "execution_count": 4,
   "metadata": {},
   "outputs": [],
   "source": [
    "indicators = {\n",
    "              'IC.LGL.CRED.XQ': 'Strength of legal rights index',\n",
    "              'SL.EMP.WORK.ZS': 'Wage and salaried workers, total (% of total employment)',\n",
    "              'SL.EMP.VULN.ZS': 'Vulnerable employment, total (% of total employment)',\n",
    "              'NY.GDP.PCAP.CN': 'GDP per capita (current LCU)'  \n",
    "}\n",
    "# 'per_lm_alllm.cov_pop_tot': 'Coverage of unemployment benefits and ALMP',\n",
    "#               'per_si_allsi.cov_pop_tot': 'Coverage of social insurance programs',\n",
    "#               'per_allsp.adq_pop_tot': 'Adequacy of social protection and labor programs',\n",
    "#               'per_sa_allsa.adq_pop_tot': 'Adequacy of social safety net programs',\n",
    "#                 'SL.TLF.0714.ZS': 'Children in employment, total (% of children ages 7-14)',\n",
    "# 'SL.ISV.IFRM.ZS': 'Informal employment (% of total non-agricultural employment)',"
   ]
  },
  {
   "cell_type": "code",
   "execution_count": 7,
   "metadata": {},
   "outputs": [
    {
     "name": "stdout",
     "output_type": "stream",
     "text": [
      "            Strength of legal rights index  \\\n",
      "date                                         \n",
      "2017-01-01                       58.333333   \n",
      "2016-01-01                       58.333333   \n",
      "2015-01-01                       58.333333   \n",
      "2014-01-01                       58.333333   \n",
      "2013-01-01                       58.333333   \n",
      "\n",
      "            Wage and salaried workers, total (% of total employment)  \\\n",
      "date                                                                   \n",
      "2017-01-01                                          78.838997          \n",
      "2016-01-01                                          79.272003          \n",
      "2015-01-01                                          78.758003          \n",
      "2014-01-01                                          78.639000          \n",
      "2013-01-01                                          78.162003          \n",
      "\n",
      "            Vulnerable employment, total (% of total employment)  \\\n",
      "date                                                               \n",
      "2017-01-01                                             17.261      \n",
      "2016-01-01                                             16.771      \n",
      "2015-01-01                                             17.309      \n",
      "2014-01-01                                             17.228      \n",
      "2013-01-01                                             17.638      \n",
      "\n",
      "            GDP per capita (current LCU)  \n",
      "date                                      \n",
      "2017-01-01                  52198.422676  \n",
      "2016-01-01                  48950.032693  \n",
      "2015-01-01                  47369.359338  \n",
      "2014-01-01                  45243.107162  \n",
      "2013-01-01                  43556.426471  \n"
     ]
    }
   ],
   "source": [
    "data_dates = (datetime.datetime(2000,1,1), datetime.datetime(2017,1,1))\n",
    "df = wbdata.get_dataframe(indicators, country=countries, convert_date=True, data_date=data_dates)\n",
    "# df = df.iloc[::-1]\n",
    "df.fillna(0, inplace=True)\n",
    "df.to_csv(r'wbdata.csv')\n",
    "df['Strength of legal rights index'] = df['Strength of legal rights index'] * 100 / 12\n",
    "print(df.head())"
   ]
  },
  {
   "cell_type": "code",
   "execution_count": null,
   "metadata": {},
   "outputs": [],
   "source": []
  },
  {
   "cell_type": "code",
   "execution_count": 15,
   "metadata": {},
   "outputs": [],
   "source": []
  },
  {
   "cell_type": "code",
   "execution_count": 15,
   "metadata": {},
   "outputs": [],
   "source": []
  },
  {
   "cell_type": "code",
   "execution_count": null,
   "metadata": {},
   "outputs": [],
   "source": []
  }
 ],
 "metadata": {
  "kernelspec": {
   "display_name": "Python 3",
   "language": "python",
   "name": "python3"
  },
  "language_info": {
   "codemirror_mode": {
    "name": "ipython",
    "version": 3
   },
   "file_extension": ".py",
   "mimetype": "text/x-python",
   "name": "python",
   "nbconvert_exporter": "python",
   "pygments_lexer": "ipython3",
   "version": "3.7.0"
  }
 },
 "nbformat": 4,
 "nbformat_minor": 1
}
