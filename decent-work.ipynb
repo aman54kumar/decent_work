{
 "cells": [
  {
   "cell_type": "code",
   "execution_count": 15,
   "metadata": {},
   "outputs": [
    {
     "data": {
      "text/html": [
       "<script>requirejs.config({paths: { 'plotly': ['https://cdn.plot.ly/plotly-latest.min']},});if(!window.Plotly) {{require(['plotly'],function(plotly) {window.Plotly=plotly;});}}</script>"
      ],
      "text/plain": [
       "<script>requirejs.config({paths: { 'plotly': ['https://cdn.plot.ly/plotly-latest.min']},});if(!window.Plotly) {{require(['plotly'],function(plotly) {window.Plotly=plotly;});}}</script>"
      ]
     },
     "execution_count": 0,
     "metadata": {},
     "output_type": "execute_result"
    }
   ],
   "source": [
    "import time                   # To time processes\n",
    "import warnings               # To suppress warnings\n",
    "\n",
    "import numpy as np            # Data manipulation\n",
    "import pandas as pd           # Dataframe manipulatio \n",
    "import matplotlib.pyplot as plt                   # For graphics\n",
    "import seaborn as sns\n",
    "import plotly as py #For World Map\n",
    "py.plotly.sign_in(username='aman54kumar', api_key='bXn5Y0WroZYH8CQxKxKJ')\n",
    "\n",
    "import plotly.graph_objs as go\n",
    "from plotly.offline import download_plotlyjs, init_notebook_mode, plot, iplot\n",
    "init_notebook_mode(connected=True)\n",
    "from sklearn.preprocessing import StandardScaler  # For scaling dataset\n",
    "from sklearn.cluster import KMeans, AgglomerativeClustering, AffinityPropagation #For clustering\n",
    "from sklearn.mixture import GaussianMixture #For GMM clustering\n",
    "\n",
    "import os                     # For os related operations\n",
    "import sys   \n",
    "import datetime\n",
    "import wbdata"
   ]
  },
  {
   "cell_type": "code",
   "execution_count": 16,
   "metadata": {},
   "outputs": [],
   "source": [
    "indicators = {\n",
    "              'IC.LGL.CRED.XQ': 'Strength of legal rights index',\n",
    "              'SL.EMP.WORK.ZS': 'Wage and salaried workers, total (% of total employment)',\n",
    "              'SL.EMP.VULN.ZS': 'Vulnerable employment, total (% of total employment)',\n",
    "              'NY.GDP.PCAP.CD': 'GDP per capita (current US$)'  \n",
    "}\n",
    "# 'per_lm_alllm.cov_pop_tot': 'Coverage of unemployment benefits and ALMP',\n",
    "#               'per_si_allsi.cov_pop_tot': 'Coverage of social insurance programs',\n",
    "#               'per_allsp.adq_pop_tot': 'Adequacy of social protection and labor programs',\n",
    "#               'per_sa_allsa.adq_pop_tot': 'Adequacy of social safety net programs',\n",
    "#                 'SL.TLF.0714.ZS': 'Children in employment, total (% of children ages 7-14)',\n",
    "# 'SL.ISV.IFRM.ZS': 'Informal employment (% of total non-agricultural employment)',"
   ]
  },
  {
   "cell_type": "code",
   "execution_count": 17,
   "metadata": {},
   "outputs": [],
   "source": [
    "data_dates = datetime.datetime(2016,1,1)\n",
    "# data_dates = (datetime.datetime(2013,1,1), datetime.datetime(2017,1,1))\n",
    "df = wbdata.get_dataframe(indicators, country='all', convert_date=True, data_date=data_dates)\n",
    "# df = df.iloc[::-1]\n",
    "df.fillna(0, inplace=True)\n",
    "df = df.iloc[48:]\n",
    "df = df[(df[['GDP per capita (current US$)','Strength of legal rights index',\n",
    "             'Wage and salaried workers, total (% of total employment)',\n",
    "             'Vulnerable employment, total (% of total employment)']] != 0).all(axis=1)]\n",
    "df_real = df.copy()\n",
    "df['Strength of legal rights index'] = df['Strength of legal rights index'] * 100 / 12"
   ]
  },
  {
   "cell_type": "code",
   "execution_count": 18,
   "metadata": {},
   "outputs": [
    {
     "name": "stdout",
     "output_type": "stream",
     "text": [
      "           Strength of legal rights index  \\\ncountry                                     \nAlbania                          0.006704   \nAlgeria                          0.002235   \nAngola                           0.001117   \nArgentina                        0.003352   \nArmenia                          0.006704   \n\n           Wage and salaried workers, total (% of total employment)  \\\ncountry                                                               \nAlbania                                             0.004108          \nAlgeria                                             0.006997          \nAngola                                              0.002888          \nArgentina                                           0.007590          \nArmenia                                             0.005953          \n\n           Vulnerable employment, total (% of total employment)  \\\ncountry                                                           \nAlbania                                             0.009405      \nAlgeria                                             0.004591      \nAngola                                              0.010981      \nArgentina                                           0.003484      \nArmenia                                             0.006654      \n\n           GDP per capita (current US$)  decent_work_score  \ncountry                                                     \nAlbania                        0.001870           2.208717  \nAlgeria                        0.001773           1.559626  \nAngola                         0.001497           1.648368  \nArgentina                      0.005727           2.015317  \nArmenia                        0.001632           2.094348  \n"
     ]
    },
    {
     "data": {
      "text/html": [
       "<div>\n",
       "<style scoped>\n",
       "    .dataframe tbody tr th:only-of-type {\n",
       "        vertical-align: middle;\n",
       "    }\n",
       "\n",
       "    .dataframe tbody tr th {\n",
       "        vertical-align: top;\n",
       "    }\n",
       "\n",
       "    .dataframe thead th {\n",
       "        text-align: right;\n",
       "    }\n",
       "</style>\n",
       "<table border=\"1\" class=\"dataframe\">\n",
       "  <thead>\n",
       "    <tr style=\"text-align: right;\">\n",
       "      <th></th>\n",
       "      <th>Strength of legal rights index</th>\n",
       "      <th>Wage and salaried workers, total (% of total employment)</th>\n",
       "      <th>Vulnerable employment, total (% of total employment)</th>\n",
       "      <th>GDP per capita (current US$)</th>\n",
       "      <th>decent_work_score</th>\n",
       "    </tr>\n",
       "    <tr>\n",
       "      <th>country</th>\n",
       "      <th></th>\n",
       "      <th></th>\n",
       "      <th></th>\n",
       "      <th></th>\n",
       "      <th></th>\n",
       "    </tr>\n",
       "  </thead>\n",
       "  <tbody>\n",
       "    <tr>\n",
       "      <th>Albania</th>\n",
       "      <td>6.0</td>\n",
       "      <td>40.568001</td>\n",
       "      <td>56.997002</td>\n",
       "      <td>4131.872341</td>\n",
       "      <td>2.208717</td>\n",
       "    </tr>\n",
       "    <tr>\n",
       "      <th>Algeria</th>\n",
       "      <td>2.0</td>\n",
       "      <td>69.095001</td>\n",
       "      <td>27.825999</td>\n",
       "      <td>3916.881571</td>\n",
       "      <td>1.559626</td>\n",
       "    </tr>\n",
       "    <tr>\n",
       "      <th>Angola</th>\n",
       "      <td>1.0</td>\n",
       "      <td>28.518000</td>\n",
       "      <td>66.547998</td>\n",
       "      <td>3308.772828</td>\n",
       "      <td>1.648368</td>\n",
       "    </tr>\n",
       "    <tr>\n",
       "      <th>Argentina</th>\n",
       "      <td>3.0</td>\n",
       "      <td>74.948997</td>\n",
       "      <td>21.112999</td>\n",
       "      <td>12654.354999</td>\n",
       "      <td>2.015317</td>\n",
       "    </tr>\n",
       "    <tr>\n",
       "      <th>Armenia</th>\n",
       "      <td>6.0</td>\n",
       "      <td>58.785000</td>\n",
       "      <td>40.328000</td>\n",
       "      <td>3605.743117</td>\n",
       "      <td>2.094348</td>\n",
       "    </tr>\n",
       "  </tbody>\n",
       "</table>\n",
       "</div>"
      ],
      "text/plain": [
       "<div>\n",
       "<style scoped>\n",
       "    .dataframe tbody tr th:only-of-type {\n",
       "        vertical-align: middle;\n",
       "    }\n",
       "\n",
       "    .dataframe tbody tr th {\n",
       "        vertical-align: top;\n",
       "    }\n",
       "\n",
       "    .dataframe thead th {\n",
       "        text-align: right;\n",
       "    }\n",
       "</style>\n",
       "<table border=\"1\" class=\"dataframe\">\n",
       "  <thead>\n",
       "    <tr style=\"text-align: right;\">\n",
       "      <th></th>\n",
       "      <th>Strength of legal rights index</th>\n",
       "      <th>Wage and salaried workers, total (% of total employment)</th>\n",
       "      <th>Vulnerable employment, total (% of total employment)</th>\n",
       "      <th>GDP per capita (current US$)</th>\n",
       "      <th>decent_work_score</th>\n",
       "    </tr>\n",
       "    <tr>\n",
       "      <th>country</th>\n",
       "      <th></th>\n",
       "      <th></th>\n",
       "      <th></th>\n",
       "      <th></th>\n",
       "      <th></th>\n",
       "    </tr>\n",
       "  </thead>\n",
       "  <tbody>\n",
       "    <tr>\n",
       "      <th>Albania</th>\n",
       "      <td>6.0</td>\n",
       "      <td>40.568001</td>\n",
       "      <td>56.997002</td>\n",
       "      <td>4131.872341</td>\n",
       "      <td>2.208717</td>\n",
       "    </tr>\n",
       "    <tr>\n",
       "      <th>Algeria</th>\n",
       "      <td>2.0</td>\n",
       "      <td>69.095001</td>\n",
       "      <td>27.825999</td>\n",
       "      <td>3916.881571</td>\n",
       "      <td>1.559626</td>\n",
       "    </tr>\n",
       "    <tr>\n",
       "      <th>Angola</th>\n",
       "      <td>1.0</td>\n",
       "      <td>28.518000</td>\n",
       "      <td>66.547998</td>\n",
       "      <td>3308.772828</td>\n",
       "      <td>1.648368</td>\n",
       "    </tr>\n",
       "    <tr>\n",
       "      <th>Argentina</th>\n",
       "      <td>3.0</td>\n",
       "      <td>74.948997</td>\n",
       "      <td>21.112999</td>\n",
       "      <td>12654.354999</td>\n",
       "      <td>2.015317</td>\n",
       "    </tr>\n",
       "    <tr>\n",
       "      <th>Armenia</th>\n",
       "      <td>6.0</td>\n",
       "      <td>58.785000</td>\n",
       "      <td>40.328000</td>\n",
       "      <td>3605.743117</td>\n",
       "      <td>2.094348</td>\n",
       "    </tr>\n",
       "  </tbody>\n",
       "</table>\n",
       "</div>"
      ]
     },
     "execution_count": 18,
     "metadata": {},
     "output_type": "execute_result"
    }
   ],
   "source": [
    "for col in df.columns:\n",
    "    df[col] = df[col]/ df[col].sum()\n",
    "\n",
    "  \n",
    "df['decent_work_score'] = (df[df.columns[0]] + df[df.columns[1]] + df[df.columns[2]] + df[df.columns[3]])*100\n",
    "df_real['decent_work_score'] = df['decent_work_score']\n",
    "df_real.to_csv(r'wbdata.csv')\n",
    "print(df.head())\n",
    "df_real.head()"
   ]
  },
  {
   "cell_type": "code",
   "execution_count": 19,
   "metadata": {},
   "outputs": [
    {
     "name": "stdout",
     "output_type": "stream",
     "text": [
      "Dimension of dataset: (165, 5)\n"
     ]
    },
    {
     "data": {
      "text/plain": [
       "Strength of legal rights index                              float64\nWage and salaried workers, total (% of total employment)    float64\nVulnerable employment, total (% of total employment)        float64\nGDP per capita (current US$)                                float64\ndecent_work_score                                           float64\ndtype: object"
      ]
     },
     "execution_count": 19,
     "metadata": {},
     "output_type": "execute_result"
    }
   ],
   "source": [
    "print(\"Dimension of dataset:\", df.shape)\n",
    "df.dtypes"
   ]
  },
  {
   "cell_type": "code",
   "execution_count": 20,
   "metadata": {},
   "outputs": [
    {
     "data": {
      "text/plain": [
       "<matplotlib.axes._subplots.AxesSubplot at 0x2f4e9347d30>"
      ]
     },
     "execution_count": 20,
     "metadata": {},
     "output_type": "execute_result"
    }
   ],
   "source": [
    "df1 = df[['Strength of legal rights index', 'Wage and salaried workers, total (% of total employment)', \n",
    "         'Vulnerable employment, total (% of total employment)','GDP per capita (current US$)']]\n",
    "cor = df1.corr()\n",
    "sns.heatmap(cor, square = True)"
   ]
  },
  {
   "cell_type": "code",
   "execution_count": 21,
   "metadata": {
    "scrolled": true
   },
   "outputs": [
    {
     "data": {
      "text/html": [
       "<div id=\"964c286a-662c-44c3-89cf-73aebd41fca2\" style=\"height: 525px; width: 100%;\" class=\"plotly-graph-div\"></div><script type=\"text/javascript\">require([\"plotly\"], function(Plotly) { window.PLOTLYENV=window.PLOTLYENV || {};window.PLOTLYENV.BASE_URL=\"https://plot.ly\";Plotly.newPlot(\"964c286a-662c-44c3-89cf-73aebd41fca2\", [{\"colorbar\": {\"title\": \"Decent work\"}, \"locationmode\": \"country names\", \"locations\": [\"Albania\", \"Algeria\", \"Angola\", \"Argentina\", \"Armenia\", \"Australia\", \"Austria\", \"Azerbaijan\", \"Bahamas, The\", \"Bahrain\", \"Bangladesh\", \"Barbados\", \"Belarus\", \"Belgium\", \"Belize\", \"Benin\", \"Bhutan\", \"Bosnia and Herzegovina\", \"Botswana\", \"Brazil\", \"Brunei Darussalam\", \"Bulgaria\", \"Burkina Faso\", \"Burundi\", \"Cabo Verde\", \"Cambodia\", \"Cameroon\", \"Canada\", \"Central African Republic\", \"Chad\", \"Chile\", \"China\", \"Colombia\", \"Comoros\", \"Congo, Dem. Rep.\", \"Congo, Rep.\", \"Costa Rica\", \"Cote d'Ivoire\", \"Croatia\", \"Cyprus\", \"Czech Republic\", \"Denmark\", \"Djibouti\", \"Dominican Republic\", \"Ecuador\", \"Egypt, Arab Rep.\", \"El Salvador\", \"Equatorial Guinea\", \"Estonia\", \"Eswatini\", \"Ethiopia\", \"Fiji\", \"Finland\", \"France\", \"Gabon\", \"Gambia, The\", \"Georgia\", \"Germany\", \"Ghana\", \"Greece\", \"Guatemala\", \"Guinea\", \"Guinea-Bissau\", \"Guyana\", \"Haiti\", \"Honduras\", \"Hong Kong SAR, China\", \"Hungary\", \"Iceland\", \"India\", \"Indonesia\", \"Iran, Islamic Rep.\", \"Ireland\", \"Israel\", \"Italy\", \"Jamaica\", \"Japan\", \"Kazakhstan\", \"Kenya\", \"Korea, Rep.\", \"Kuwait\", \"Kyrgyz Republic\", \"Lao PDR\", \"Latvia\", \"Lebanon\", \"Lesotho\", \"Liberia\", \"Lithuania\", \"Luxembourg\", \"Macedonia, FYR\", \"Madagascar\", \"Malawi\", \"Malaysia\", \"Maldives\", \"Mali\", \"Malta\", \"Mauritania\", \"Mauritius\", \"Mexico\", \"Moldova\", \"Mongolia\", \"Montenegro\", \"Morocco\", \"Mozambique\", \"Myanmar\", \"Namibia\", \"Nepal\", \"Netherlands\", \"New Zealand\", \"Nicaragua\", \"Niger\", \"Nigeria\", \"Norway\", \"Oman\", \"Pakistan\", \"Panama\", \"Papua New Guinea\", \"Paraguay\", \"Peru\", \"Philippines\", \"Poland\", \"Portugal\", \"Puerto Rico\", \"Qatar\", \"Romania\", \"Russian Federation\", \"Rwanda\", \"Samoa\", \"Saudi Arabia\", \"Senegal\", \"Serbia\", \"Sierra Leone\", \"Singapore\", \"Slovak Republic\", \"Slovenia\", \"Solomon Islands\", \"South Africa\", \"South Sudan\", \"Spain\", \"Sri Lanka\", \"St. Lucia\", \"St. Vincent and the Grenadines\", \"Sudan\", \"Suriname\", \"Sweden\", \"Switzerland\", \"Tajikistan\", \"Tanzania\", \"Thailand\", \"Togo\", \"Tonga\", \"Trinidad and Tobago\", \"Tunisia\", \"Turkey\", \"Uganda\", \"Ukraine\", \"United Arab Emirates\", \"United Kingdom\", \"United States\", \"Uruguay\", \"Uzbekistan\", \"Vanuatu\", \"Vietnam\", \"Zambia\", \"Zimbabwe\"], \"text\": [\"Albania\", \"Algeria\", \"Angola\", \"Argentina\", \"Armenia\", \"Australia\", \"Austria\", \"Azerbaijan\", \"Bahamas, The\", \"Bahrain\", \"Bangladesh\", \"Barbados\", \"Belarus\", \"Belgium\", \"Belize\", \"Benin\", \"Bhutan\", \"Bosnia and Herzegovina\", \"Botswana\", \"Brazil\", \"Brunei Darussalam\", \"Bulgaria\", \"Burkina Faso\", \"Burundi\", \"Cabo Verde\", \"Cambodia\", \"Cameroon\", \"Canada\", \"Central African Republic\", \"Chad\", \"Chile\", \"China\", \"Colombia\", \"Comoros\", \"Congo, Dem. Rep.\", \"Congo, Rep.\", \"Costa Rica\", \"Cote d'Ivoire\", \"Croatia\", \"Cyprus\", \"Czech Republic\", \"Denmark\", \"Djibouti\", \"Dominican Republic\", \"Ecuador\", \"Egypt, Arab Rep.\", \"El Salvador\", \"Equatorial Guinea\", \"Estonia\", \"Eswatini\", \"Ethiopia\", \"Fiji\", \"Finland\", \"France\", \"Gabon\", \"Gambia, The\", \"Georgia\", \"Germany\", \"Ghana\", \"Greece\", \"Guatemala\", \"Guinea\", \"Guinea-Bissau\", \"Guyana\", \"Haiti\", \"Honduras\", \"Hong Kong SAR, China\", \"Hungary\", \"Iceland\", \"India\", \"Indonesia\", \"Iran, Islamic Rep.\", \"Ireland\", \"Israel\", \"Italy\", \"Jamaica\", \"Japan\", \"Kazakhstan\", \"Kenya\", \"Korea, Rep.\", \"Kuwait\", \"Kyrgyz Republic\", \"Lao PDR\", \"Latvia\", \"Lebanon\", \"Lesotho\", \"Liberia\", \"Lithuania\", \"Luxembourg\", \"Macedonia, FYR\", \"Madagascar\", \"Malawi\", \"Malaysia\", \"Maldives\", \"Mali\", \"Malta\", \"Mauritania\", \"Mauritius\", \"Mexico\", \"Moldova\", \"Mongolia\", \"Montenegro\", \"Morocco\", \"Mozambique\", \"Myanmar\", \"Namibia\", \"Nepal\", \"Netherlands\", \"New Zealand\", \"Nicaragua\", \"Niger\", \"Nigeria\", \"Norway\", \"Oman\", \"Pakistan\", \"Panama\", \"Papua New Guinea\", \"Paraguay\", \"Peru\", \"Philippines\", \"Poland\", \"Portugal\", \"Puerto Rico\", \"Qatar\", \"Romania\", \"Russian Federation\", \"Rwanda\", \"Samoa\", \"Saudi Arabia\", \"Senegal\", \"Serbia\", \"Sierra Leone\", \"Singapore\", \"Slovak Republic\", \"Slovenia\", \"Solomon Islands\", \"South Africa\", \"South Sudan\", \"Spain\", \"Sri Lanka\", \"St. Lucia\", \"St. Vincent and the Grenadines\", \"Sudan\", \"Suriname\", \"Sweden\", \"Switzerland\", \"Tajikistan\", \"Tanzania\", \"Thailand\", \"Togo\", \"Tonga\", \"Trinidad and Tobago\", \"Tunisia\", \"Turkey\", \"Uganda\", \"Ukraine\", \"United Arab Emirates\", \"United Kingdom\", \"United States\", \"Uruguay\", \"Uzbekistan\", \"Vanuatu\", \"Vietnam\", \"Zambia\", \"Zimbabwe\"], \"z\": [2.2087169987364708, 1.559626015552195, 1.6483676401349758, 2.0153167784023944, 2.094348252911152, 4.506431167524618, 3.4901173534075585, 1.6297812344843867, 3.101874925568767, 2.1424497378946072, 1.971935279871011, 2.60682329443687, 1.4723533446396768, 3.3530915548945868, 1.7996132573804589, 2.2659296267386715, 2.03930247130222, 2.0991336200403907, 1.9523873067803688, 1.7578711452755802, 2.8018827532441963, 2.37248772101687, 2.259680936149043, 1.8287267422018478, 1.5895305369260089, 2.508859062314852, 2.16602540921109, 3.956729358617618, 2.1119468593972304, 2.2923367770255463, 2.201638134527407, 2.0035109709621994, 2.8741908186491414, 2.072686706334365, 2.005588412408595, 2.2142301091882186, 2.6716362747315556, 2.200039381984403, 2.1309724199688977, 2.921748134758851, 2.688948590050459, 4.3327418907908655, 1.4343696195748052, 1.6609366132135133, 1.6511421547489253, 1.415419482725094, 2.3771016126678175, 2.284064961906649, 2.593973057890507, 1.6917167071360353, 1.9362425211199044, 2.0360508195692755, 3.78321628071557, 3.133189443920474, 2.185842625648574, 2.3644260339006546, 2.5414841078202826, 3.587819374016233, 2.2135350651128936, 2.2522713559956937, 2.396324381968816, 2.275940682468208, 2.1136435425838203, 1.6961700599357181, 1.8169981658358134, 2.2495563646053247, 3.8936497740712515, 2.697229455429039, 4.320619187284202, 2.239473170925657, 2.1121301928041643, 1.700222642622956, 4.7267032737623715, 3.407298357554596, 2.669884494385757, 2.4484096414178804, 3.369316184872467, 1.9546831617359823, 2.1312196227824263, 2.9201669580943315, 2.3691460169383003, 2.1640520847138167, 2.3127153776141323, 2.6673174084710585, 1.6607547263003084, 1.988195861736363, 2.507559365197284, 2.397789878633042, 5.906621172966066, 2.4858752720963824, 1.7578565336186898, 2.4002004277115248, 2.3314559604441842, 1.7626016068540404, 2.2700425156741346, 2.367617999239681, 1.5414159119273128, 2.1792628529755174, 2.6398187065571146, 2.1674466285739227, 2.0223882702335585, 2.6537303496616405, 1.6610474077698674, 1.6404146993604916, 1.6266897323002212, 1.8932096849731257, 2.206356260781929, 3.3423619619995555, 4.198746529118301, 1.4149114404190224, 2.2551226498875003, 2.3926896877408543, 4.79427747644356, 1.844997055972298, 1.6680380823651715, 2.6122680750501135, 2.5900246496630848, 1.5058289939686371, 2.4573039943637713, 1.4502545168539005, 2.423548740292012, 2.1701298885521845, 3.5972228583437476, 3.807543770648519, 2.602176977016707, 2.2173200773734134, 2.6671860286588, 1.9121392897491243, 2.14053614063624, 1.9844552682465548, 2.073543375484346, 2.1277372396755174, 4.401160300675602, 2.588511784089568, 2.357750217755851, 2.6079231149708497, 1.815503941410534, 1.4788337608219384, 2.8022045289118203, 1.6378845176726065, 2.1188619763283887, 1.9159178925011136, 1.6691326229594576, 1.5693254462812896, 4.033140929452295, 5.294733939251193, 1.4614883925969684, 2.114848953547197, 1.9118132262762884, 2.211550375340853, 2.6347938458624327, 2.5797259987175116, 1.5793376498177685, 1.8603380689617068, 2.1511009524369755, 2.089775746303677, 2.9540593674599944, 3.6823057218705992, 4.85036492263065, 2.2617365743998716, 1.9119763135564622, 2.827334163573661, 2.2204997257466808, 2.3431147350297645, 2.026952651681881], \"type\": \"choropleth\", \"uid\": \"af7e8be6-bf48-11e8-91d9-87adaaf5d4b4\"}], {\"geo\": {\"projection\": {\"type\": \"mercator\"}, \"showframe\": false}, \"title\": \"Decent Work Index\"}, {\"showLink\": true, \"linkText\": \"Export to plot.ly\"})});</script>"
      ],
      "text/plain": [
       "<div id=\"964c286a-662c-44c3-89cf-73aebd41fca2\" style=\"height: 525px; width: 100%;\" class=\"plotly-graph-div\"></div><script type=\"text/javascript\">require([\"plotly\"], function(Plotly) { window.PLOTLYENV=window.PLOTLYENV || {};window.PLOTLYENV.BASE_URL=\"https://plot.ly\";Plotly.newPlot(\"964c286a-662c-44c3-89cf-73aebd41fca2\", [{\"colorbar\": {\"title\": \"Decent work\"}, \"locationmode\": \"country names\", \"locations\": [\"Albania\", \"Algeria\", \"Angola\", \"Argentina\", \"Armenia\", \"Australia\", \"Austria\", \"Azerbaijan\", \"Bahamas, The\", \"Bahrain\", \"Bangladesh\", \"Barbados\", \"Belarus\", \"Belgium\", \"Belize\", \"Benin\", \"Bhutan\", \"Bosnia and Herzegovina\", \"Botswana\", \"Brazil\", \"Brunei Darussalam\", \"Bulgaria\", \"Burkina Faso\", \"Burundi\", \"Cabo Verde\", \"Cambodia\", \"Cameroon\", \"Canada\", \"Central African Republic\", \"Chad\", \"Chile\", \"China\", \"Colombia\", \"Comoros\", \"Congo, Dem. Rep.\", \"Congo, Rep.\", \"Costa Rica\", \"Cote d'Ivoire\", \"Croatia\", \"Cyprus\", \"Czech Republic\", \"Denmark\", \"Djibouti\", \"Dominican Republic\", \"Ecuador\", \"Egypt, Arab Rep.\", \"El Salvador\", \"Equatorial Guinea\", \"Estonia\", \"Eswatini\", \"Ethiopia\", \"Fiji\", \"Finland\", \"France\", \"Gabon\", \"Gambia, The\", \"Georgia\", \"Germany\", \"Ghana\", \"Greece\", \"Guatemala\", \"Guinea\", \"Guinea-Bissau\", \"Guyana\", \"Haiti\", \"Honduras\", \"Hong Kong SAR, China\", \"Hungary\", \"Iceland\", \"India\", \"Indonesia\", \"Iran, Islamic Rep.\", \"Ireland\", \"Israel\", \"Italy\", \"Jamaica\", \"Japan\", \"Kazakhstan\", \"Kenya\", \"Korea, Rep.\", \"Kuwait\", \"Kyrgyz Republic\", \"Lao PDR\", \"Latvia\", \"Lebanon\", \"Lesotho\", \"Liberia\", \"Lithuania\", \"Luxembourg\", \"Macedonia, FYR\", \"Madagascar\", \"Malawi\", \"Malaysia\", \"Maldives\", \"Mali\", \"Malta\", \"Mauritania\", \"Mauritius\", \"Mexico\", \"Moldova\", \"Mongolia\", \"Montenegro\", \"Morocco\", \"Mozambique\", \"Myanmar\", \"Namibia\", \"Nepal\", \"Netherlands\", \"New Zealand\", \"Nicaragua\", \"Niger\", \"Nigeria\", \"Norway\", \"Oman\", \"Pakistan\", \"Panama\", \"Papua New Guinea\", \"Paraguay\", \"Peru\", \"Philippines\", \"Poland\", \"Portugal\", \"Puerto Rico\", \"Qatar\", \"Romania\", \"Russian Federation\", \"Rwanda\", \"Samoa\", \"Saudi Arabia\", \"Senegal\", \"Serbia\", \"Sierra Leone\", \"Singapore\", \"Slovak Republic\", \"Slovenia\", \"Solomon Islands\", \"South Africa\", \"South Sudan\", \"Spain\", \"Sri Lanka\", \"St. Lucia\", \"St. Vincent and the Grenadines\", \"Sudan\", \"Suriname\", \"Sweden\", \"Switzerland\", \"Tajikistan\", \"Tanzania\", \"Thailand\", \"Togo\", \"Tonga\", \"Trinidad and Tobago\", \"Tunisia\", \"Turkey\", \"Uganda\", \"Ukraine\", \"United Arab Emirates\", \"United Kingdom\", \"United States\", \"Uruguay\", \"Uzbekistan\", \"Vanuatu\", \"Vietnam\", \"Zambia\", \"Zimbabwe\"], \"text\": [\"Albania\", \"Algeria\", \"Angola\", \"Argentina\", \"Armenia\", \"Australia\", \"Austria\", \"Azerbaijan\", \"Bahamas, The\", \"Bahrain\", \"Bangladesh\", \"Barbados\", \"Belarus\", \"Belgium\", \"Belize\", \"Benin\", \"Bhutan\", \"Bosnia and Herzegovina\", \"Botswana\", \"Brazil\", \"Brunei Darussalam\", \"Bulgaria\", \"Burkina Faso\", \"Burundi\", \"Cabo Verde\", \"Cambodia\", \"Cameroon\", \"Canada\", \"Central African Republic\", \"Chad\", \"Chile\", \"China\", \"Colombia\", \"Comoros\", \"Congo, Dem. Rep.\", \"Congo, Rep.\", \"Costa Rica\", \"Cote d'Ivoire\", \"Croatia\", \"Cyprus\", \"Czech Republic\", \"Denmark\", \"Djibouti\", \"Dominican Republic\", \"Ecuador\", \"Egypt, Arab Rep.\", \"El Salvador\", \"Equatorial Guinea\", \"Estonia\", \"Eswatini\", \"Ethiopia\", \"Fiji\", \"Finland\", \"France\", \"Gabon\", \"Gambia, The\", \"Georgia\", \"Germany\", \"Ghana\", \"Greece\", \"Guatemala\", \"Guinea\", \"Guinea-Bissau\", \"Guyana\", \"Haiti\", \"Honduras\", \"Hong Kong SAR, China\", \"Hungary\", \"Iceland\", \"India\", \"Indonesia\", \"Iran, Islamic Rep.\", \"Ireland\", \"Israel\", \"Italy\", \"Jamaica\", \"Japan\", \"Kazakhstan\", \"Kenya\", \"Korea, Rep.\", \"Kuwait\", \"Kyrgyz Republic\", \"Lao PDR\", \"Latvia\", \"Lebanon\", \"Lesotho\", \"Liberia\", \"Lithuania\", \"Luxembourg\", \"Macedonia, FYR\", \"Madagascar\", \"Malawi\", \"Malaysia\", \"Maldives\", \"Mali\", \"Malta\", \"Mauritania\", \"Mauritius\", \"Mexico\", \"Moldova\", \"Mongolia\", \"Montenegro\", \"Morocco\", \"Mozambique\", \"Myanmar\", \"Namibia\", \"Nepal\", \"Netherlands\", \"New Zealand\", \"Nicaragua\", \"Niger\", \"Nigeria\", \"Norway\", \"Oman\", \"Pakistan\", \"Panama\", \"Papua New Guinea\", \"Paraguay\", \"Peru\", \"Philippines\", \"Poland\", \"Portugal\", \"Puerto Rico\", \"Qatar\", \"Romania\", \"Russian Federation\", \"Rwanda\", \"Samoa\", \"Saudi Arabia\", \"Senegal\", \"Serbia\", \"Sierra Leone\", \"Singapore\", \"Slovak Republic\", \"Slovenia\", \"Solomon Islands\", \"South Africa\", \"South Sudan\", \"Spain\", \"Sri Lanka\", \"St. Lucia\", \"St. Vincent and the Grenadines\", \"Sudan\", \"Suriname\", \"Sweden\", \"Switzerland\", \"Tajikistan\", \"Tanzania\", \"Thailand\", \"Togo\", \"Tonga\", \"Trinidad and Tobago\", \"Tunisia\", \"Turkey\", \"Uganda\", \"Ukraine\", \"United Arab Emirates\", \"United Kingdom\", \"United States\", \"Uruguay\", \"Uzbekistan\", \"Vanuatu\", \"Vietnam\", \"Zambia\", \"Zimbabwe\"], \"z\": [2.2087169987364708, 1.559626015552195, 1.6483676401349758, 2.0153167784023944, 2.094348252911152, 4.506431167524618, 3.4901173534075585, 1.6297812344843867, 3.101874925568767, 2.1424497378946072, 1.971935279871011, 2.60682329443687, 1.4723533446396768, 3.3530915548945868, 1.7996132573804589, 2.2659296267386715, 2.03930247130222, 2.0991336200403907, 1.9523873067803688, 1.7578711452755802, 2.8018827532441963, 2.37248772101687, 2.259680936149043, 1.8287267422018478, 1.5895305369260089, 2.508859062314852, 2.16602540921109, 3.956729358617618, 2.1119468593972304, 2.2923367770255463, 2.201638134527407, 2.0035109709621994, 2.8741908186491414, 2.072686706334365, 2.005588412408595, 2.2142301091882186, 2.6716362747315556, 2.200039381984403, 2.1309724199688977, 2.921748134758851, 2.688948590050459, 4.3327418907908655, 1.4343696195748052, 1.6609366132135133, 1.6511421547489253, 1.415419482725094, 2.3771016126678175, 2.284064961906649, 2.593973057890507, 1.6917167071360353, 1.9362425211199044, 2.0360508195692755, 3.78321628071557, 3.133189443920474, 2.185842625648574, 2.3644260339006546, 2.5414841078202826, 3.587819374016233, 2.2135350651128936, 2.2522713559956937, 2.396324381968816, 2.275940682468208, 2.1136435425838203, 1.6961700599357181, 1.8169981658358134, 2.2495563646053247, 3.8936497740712515, 2.697229455429039, 4.320619187284202, 2.239473170925657, 2.1121301928041643, 1.700222642622956, 4.7267032737623715, 3.407298357554596, 2.669884494385757, 2.4484096414178804, 3.369316184872467, 1.9546831617359823, 2.1312196227824263, 2.9201669580943315, 2.3691460169383003, 2.1640520847138167, 2.3127153776141323, 2.6673174084710585, 1.6607547263003084, 1.988195861736363, 2.507559365197284, 2.397789878633042, 5.906621172966066, 2.4858752720963824, 1.7578565336186898, 2.4002004277115248, 2.3314559604441842, 1.7626016068540404, 2.2700425156741346, 2.367617999239681, 1.5414159119273128, 2.1792628529755174, 2.6398187065571146, 2.1674466285739227, 2.0223882702335585, 2.6537303496616405, 1.6610474077698674, 1.6404146993604916, 1.6266897323002212, 1.8932096849731257, 2.206356260781929, 3.3423619619995555, 4.198746529118301, 1.4149114404190224, 2.2551226498875003, 2.3926896877408543, 4.79427747644356, 1.844997055972298, 1.6680380823651715, 2.6122680750501135, 2.5900246496630848, 1.5058289939686371, 2.4573039943637713, 1.4502545168539005, 2.423548740292012, 2.1701298885521845, 3.5972228583437476, 3.807543770648519, 2.602176977016707, 2.2173200773734134, 2.6671860286588, 1.9121392897491243, 2.14053614063624, 1.9844552682465548, 2.073543375484346, 2.1277372396755174, 4.401160300675602, 2.588511784089568, 2.357750217755851, 2.6079231149708497, 1.815503941410534, 1.4788337608219384, 2.8022045289118203, 1.6378845176726065, 2.1188619763283887, 1.9159178925011136, 1.6691326229594576, 1.5693254462812896, 4.033140929452295, 5.294733939251193, 1.4614883925969684, 2.114848953547197, 1.9118132262762884, 2.211550375340853, 2.6347938458624327, 2.5797259987175116, 1.5793376498177685, 1.8603380689617068, 2.1511009524369755, 2.089775746303677, 2.9540593674599944, 3.6823057218705992, 4.85036492263065, 2.2617365743998716, 1.9119763135564622, 2.827334163573661, 2.2204997257466808, 2.3431147350297645, 2.026952651681881], \"type\": \"choropleth\", \"uid\": \"af7e8be6-bf48-11e8-91d9-87adaaf5d4b4\"}], {\"geo\": {\"projection\": {\"type\": \"mercator\"}, \"showframe\": false}, \"title\": \"Decent Work Index\"}, {\"showLink\": true, \"linkText\": \"Export to plot.ly\"})});</script>"
      ]
     },
     "execution_count": 0,
     "metadata": {},
     "output_type": "execute_result"
    }
   ],
   "source": [
    "df2 = df.reset_index()\n",
    "data = dict(type='choropleth',\n",
    "           locations=df2['country'],\n",
    "           locationmode = 'country names',\n",
    "           z = df2['decent_work_score'],\n",
    "           text = df2['country'],\n",
    "           colorbar = {'title':  'Decent work'})\n",
    "layout = dict(title = 'Decent Work Index',\n",
    "            geo = dict(showframe= False,\n",
    "                      projection = {'type': 'mercator'}))\n",
    "\n",
    "choromap3 = go.Figure(data = [data], layout=layout)\n",
    "iplot(choromap3)\n",
    "#show map"
   ]
  },
  {
   "cell_type": "markdown",
   "metadata": {},
   "source": [
    "In general, k-means is the first choice for clustering because of its simplicity. Here, the user has to define the number of clusters. The clusters are formed based on the closeness to the center value of the clusters. The initial center value is chosen randomly. K-means clustering is top-down approach, in the sense, we decide the number of clusters (k) and then group the data points into k clusters."
   ]
  },
  {
   "cell_type": "code",
   "execution_count": 22,
   "metadata": {},
   "outputs": [],
   "source": [
    "def doKmeans(X, nclust=2):\n",
    "    model = KMeans(nclust)\n",
    "    model.fit(X)\n",
    "    clust_labels = model.predict(X)\n",
    "    cent = model.cluster_centers_\n",
    "    return (clust_labels, cent)\n",
    "\n",
    "clust_labels, cent = doKmeans(df_real, 2)\n",
    "kmeans = pd.DataFrame(clust_labels)\n",
    "df_real.insert((df_real.shape[1]),'kmeans',kmeans)"
   ]
  },
  {
   "cell_type": "code",
   "execution_count": 23,
   "metadata": {},
   "outputs": [
    {
     "data": {
      "text/plain": [
       "<matplotlib.colorbar.Colorbar at 0x2f4e95b4dd8>"
      ]
     },
     "execution_count": 23,
     "metadata": {},
     "output_type": "execute_result"
    }
   ],
   "source": [
    "fig = plt.figure()\n",
    "ax = fig.add_subplot(111)\n",
    "scatter = ax.scatter(df_real['GDP per capita (current US$)'],df_real['decent_work_score'],\n",
    "                     c=kmeans[0], s=50)\n",
    "ax.set_title('K-Means Clustering')\n",
    "ax.set_xlabel('GDP per Capita')\n",
    "ax.set_ylabel('Decent Work')\n",
    "plt.colorbar(scatter)"
   ]
  },
  {
   "cell_type": "code",
   "execution_count": null,
   "metadata": {},
   "outputs": [],
   "source": []
  }
 ],
 "metadata": {
  "kernelspec": {
   "display_name": "Python 3",
   "language": "python",
   "name": "python3"
  },
  "language_info": {
   "codemirror_mode": {
    "name": "ipython",
    "version": 3
   },
   "file_extension": ".py",
   "mimetype": "text/x-python",
   "name": "python",
   "nbconvert_exporter": "python",
   "pygments_lexer": "ipython3",
   "version": "3.7.0"
  }
 },
 "nbformat": 4,
 "nbformat_minor": 2
}
